{
  "nbformat": 4,
  "nbformat_minor": 0,
  "metadata": {
    "colab": {
      "provenance": [],
      "authorship_tag": "ABX9TyNIObNJcswVBx52onF59qcf",
      "include_colab_link": true
    },
    "kernelspec": {
      "name": "python3",
      "display_name": "Python 3"
    },
    "language_info": {
      "name": "python"
    }
  },
  "cells": [
    {
      "cell_type": "markdown",
      "metadata": {
        "id": "view-in-github",
        "colab_type": "text"
      },
      "source": [
        "<a href=\"https://colab.research.google.com/github/PythonFall/ACT/blob/main/Download_KMAdata2CoLab_withAPI.ipynb\" target=\"_parent\"><img src=\"https://colab.research.google.com/assets/colab-badge.svg\" alt=\"Open In Colab\"/></a>"
      ]
    },
    {
      "cell_type": "code",
      "source": [
        "from google.colab import drive\n",
        "drive.mount('/content/drive')"
      ],
      "metadata": {
        "colab": {
          "base_uri": "https://localhost:8080/"
        },
        "id": "UvSVTqgu_9oU",
        "outputId": "9895080a-69fb-448e-e68c-cad6ea63d43e"
      },
      "execution_count": 58,
      "outputs": [
        {
          "output_type": "stream",
          "name": "stdout",
          "text": [
            "Drive already mounted at /content/drive; to attempt to forcibly remount, call drive.mount(\"/content/drive\", force_remount=True).\n"
          ]
        }
      ]
    },
    {
      "cell_type": "code",
      "source": [
        "cd /content/drive/MyDrive"
      ],
      "metadata": {
        "colab": {
          "base_uri": "https://localhost:8080/"
        },
        "id": "69webVkgAWH4",
        "outputId": "bb2baebf-6daa-48bf-d2d7-776e71962dbd"
      },
      "execution_count": 59,
      "outputs": [
        {
          "output_type": "stream",
          "name": "stdout",
          "text": [
            "/content/drive/MyDrive\n"
          ]
        }
      ]
    },
    {
      "cell_type": "code",
      "source": [
        "ls"
      ],
      "metadata": {
        "colab": {
          "base_uri": "https://localhost:8080/"
        },
        "id": "NkBnVpDhBIAA",
        "outputId": "c970e816-ac03-4642-e0d8-e3ad4c2e8ca4"
      },
      "execution_count": 60,
      "outputs": [
        {
          "output_type": "stream",
          "name": "stdout",
          "text": [
            " \u001b[0m\u001b[01;34mClass_AtmoPythonFall2024\u001b[0m/  \u001b[01;34m'Colab Notebooks'\u001b[0m/   Untitled0.ipynb   Untitled1.ipynb\n"
          ]
        }
      ]
    },
    {
      "cell_type": "code",
      "source": [
        "cd Class_AtmoPythonFall2024"
      ],
      "metadata": {
        "colab": {
          "base_uri": "https://localhost:8080/"
        },
        "id": "Bva6W2cNBJ0q",
        "outputId": "516f184e-ede3-486f-e9c9-abae4c2beab9"
      },
      "execution_count": 61,
      "outputs": [
        {
          "output_type": "stream",
          "name": "stdout",
          "text": [
            "/content/drive/MyDrive/Class_AtmoPythonFall2024\n"
          ]
        }
      ]
    },
    {
      "cell_type": "code",
      "source": [
        "import requests  # requests 모듈 임포트"
      ],
      "metadata": {
        "id": "bprh5g1E9kuH"
      },
      "execution_count": 62,
      "outputs": []
    },
    {
      "cell_type": "code",
      "source": [
        "def download_file(file_url, save_path):\n",
        "    with open(save_path, 'wb') as f: # 저장할 파일을 바이너리 쓰기 모드로 열기\n",
        "        response = requests.get(file_url) # 파일 URL에 GET 요청 보내기\n",
        "        f.write(response.content) # 응답의 내용을 파일에 쓰기"
      ],
      "metadata": {
        "id": "-hpMjVFw9msI"
      },
      "execution_count": 63,
      "outputs": []
    },
    {
      "cell_type": "code",
      "source": [
        "tm1     = \"202407010001\"\n",
        "tm2     = \"202407020000\"\n",
        "stn_id  = \"105\"\n",
        "authKey = \"5RWDqFY7S-iVg6hWO7votg\"\n",
        "url    = f\"https://apihub.kma.go.kr/api/typ01/cgi-bin/url/nph-aws2_min?tm1={tm1}&tm2={tm2}&stn={stn_id}&disp=0&help=2&authKey={authKey}\"\n",
        "print(url)"
      ],
      "metadata": {
        "colab": {
          "base_uri": "https://localhost:8080/"
        },
        "id": "-Tr9wXjj9m0u",
        "outputId": "07eaa0bc-c0c7-49e6-969a-f7073d70d3c9"
      },
      "execution_count": 64,
      "outputs": [
        {
          "output_type": "stream",
          "name": "stdout",
          "text": [
            "https://apihub.kma.go.kr/api/typ01/cgi-bin/url/nph-aws2_min?tm1=202407010001&tm2=202407020000&stn=105&disp=0&help=2&authKey=5RWDqFY7S-iVg6hWO7votg\n"
          ]
        }
      ]
    },
    {
      "cell_type": "code",
      "source": [
        "fn     = f\"./{stn_id}_ASOS_DAY_{tm1}_{tm2}.csv\"\n",
        "d      = download_file(url,fn)"
      ],
      "metadata": {
        "id": "5TD7z93C9m8y"
      },
      "execution_count": 65,
      "outputs": []
    },
    {
      "cell_type": "code",
      "source": [
        "pwd"
      ],
      "metadata": {
        "colab": {
          "base_uri": "https://localhost:8080/",
          "height": 36
        },
        "id": "_HSGlFsQBWtV",
        "outputId": "00d43b40-83d3-41a5-faca-4c1d10a68216"
      },
      "execution_count": 67,
      "outputs": [
        {
          "output_type": "execute_result",
          "data": {
            "text/plain": [
              "'/content/drive/MyDrive/Class_AtmoPythonFall2024'"
            ],
            "application/vnd.google.colaboratory.intrinsic+json": {
              "type": "string"
            }
          },
          "metadata": {},
          "execution_count": 67
        }
      ]
    },
    {
      "cell_type": "code",
      "source": [
        "ls"
      ],
      "metadata": {
        "colab": {
          "base_uri": "https://localhost:8080/"
        },
        "id": "LplHveqYA8jS",
        "outputId": "a4e0658f-4aa4-42a5-cdf1-345672e89c66"
      },
      "execution_count": 68,
      "outputs": [
        {
          "output_type": "stream",
          "name": "stdout",
          "text": [
            "105_ASOS_DAY_202407010001_202407020000.csv  Untitled0.ipynb\n"
          ]
        }
      ]
    }
  ]
}